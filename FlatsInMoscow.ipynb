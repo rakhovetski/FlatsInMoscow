{
 "cells": [
  {
   "cell_type": "markdown",
   "id": "5eda79ab",
   "metadata": {},
   "source": [
    "# Предсказание цены квартиры"
   ]
  },
  {
   "cell_type": "markdown",
   "id": "c986f948",
   "metadata": {},
   "source": [
    "## Введение"
   ]
  },
  {
   "cell_type": "markdown",
   "id": "e9f54bcb",
   "metadata": {},
   "source": [
    "Импортируем необходимые библиотеки и датасет"
   ]
  },
  {
   "cell_type": "code",
   "execution_count": 1,
   "id": "2f4d0948",
   "metadata": {},
   "outputs": [],
   "source": [
    "import pandas as pd\n",
    "import numpy as np\n",
    "import matplotlib.pyplot as plt\n",
    "import seaborn as sns\n",
    "import scipy.stats as stats"
   ]
  },
  {
   "cell_type": "code",
   "execution_count": 2,
   "id": "fa2bb975",
   "metadata": {},
   "outputs": [],
   "source": [
    "from sklearn.linear_model import Ridge\n",
    "from sklearn.ensemble import RandomForestRegressor\n",
    "from sklearn.neighbors import KNeighborsRegressor\n",
    "from sklearn.svm import SVR\n",
    "from sklearn.metrics import r2_score\n",
    "from sklearn.model_selection import train_test_split, GridSearchCV, cross_val_score"
   ]
  },
  {
   "cell_type": "code",
   "execution_count": 3,
   "id": "593c9c3a",
   "metadata": {},
   "outputs": [],
   "source": [
    "import warnings \n",
    "warnings.filterwarnings('ignore')"
   ]
  },
  {
   "cell_type": "code",
   "execution_count": 4,
   "id": "1e554804",
   "metadata": {},
   "outputs": [],
   "source": [
    "df = pd.read_csv(r\"D:\\Портфолио\\MachineLearning\\FlatsInMoscow\\data\\flats_moscow.csv\")"
   ]
  },
  {
   "cell_type": "markdown",
   "id": "fb8b61e7",
   "metadata": {},
   "source": [
    " Описание признаков"
   ]
  },
  {
   "cell_type": "markdown",
   "id": "418f9b01",
   "metadata": {},
   "source": [
    "price: цена квартиры в \\$1000\n",
    "\n",
    "totsp: общая площадь квартиры, кв.м.\n",
    "\n",
    "livesp: жилая площадь квартиры, кв.м.\n",
    "\n",
    "kitsp: площадь кухни, кв.м.\n",
    "\n",
    "dist: расстояние от центра в км.\n",
    "\n",
    "metrdist: расстояние до метро в минутах\n",
    "\n",
    "walk: 1 – пешком от метро, 0 – на транспорте\n",
    "\n",
    "brick: 1 – кирпичный, монолит ж/б, 0 – другой\n",
    "\n",
    "floor: 1 – этаж кроме первого и последнего, 0 – иначе\n",
    "\n",
    "code: число от 1 до 8, обозначающее район города\n",
    "\n",
    "    1. Север, около Калужско-Рижской линии метро\n",
    "    2. Север, около Серпуховско-Тимирязевской линии метро\n",
    "    3. Северо-запад, около Замоскворецкой линиии метро\n",
    "    4. Северо-запад, около Таганско-Краснопресненской линиии метро\n",
    "    5. Юго-восток, около Люблинской линиии метро\n",
    "    6. Юго-восток, около Таганско-Краснопресненской линиии метро\n",
    "    7. Восток, около Калининской линиии метро\n",
    "    8. Восток, около Арбатско-Покровской линиии метро"
   ]
  },
  {
   "cell_type": "code",
   "execution_count": 5,
   "id": "5ef412d8",
   "metadata": {},
   "outputs": [
    {
     "data": {
      "text/html": [
       "<div>\n",
       "<style scoped>\n",
       "    .dataframe tbody tr th:only-of-type {\n",
       "        vertical-align: middle;\n",
       "    }\n",
       "\n",
       "    .dataframe tbody tr th {\n",
       "        vertical-align: top;\n",
       "    }\n",
       "\n",
       "    .dataframe thead th {\n",
       "        text-align: right;\n",
       "    }\n",
       "</style>\n",
       "<table border=\"1\" class=\"dataframe\">\n",
       "  <thead>\n",
       "    <tr style=\"text-align: right;\">\n",
       "      <th></th>\n",
       "      <th>Unnamed: 0</th>\n",
       "      <th>price</th>\n",
       "      <th>totsp</th>\n",
       "      <th>livesp</th>\n",
       "      <th>kitsp</th>\n",
       "      <th>dist</th>\n",
       "      <th>metrdist</th>\n",
       "      <th>walk</th>\n",
       "      <th>brick</th>\n",
       "      <th>floor</th>\n",
       "      <th>code</th>\n",
       "    </tr>\n",
       "  </thead>\n",
       "  <tbody>\n",
       "    <tr>\n",
       "      <th>0</th>\n",
       "      <td>1</td>\n",
       "      <td>81</td>\n",
       "      <td>58</td>\n",
       "      <td>40</td>\n",
       "      <td>6.0</td>\n",
       "      <td>12.5</td>\n",
       "      <td>7</td>\n",
       "      <td>1</td>\n",
       "      <td>1</td>\n",
       "      <td>1</td>\n",
       "      <td>3</td>\n",
       "    </tr>\n",
       "    <tr>\n",
       "      <th>1</th>\n",
       "      <td>2</td>\n",
       "      <td>75</td>\n",
       "      <td>44</td>\n",
       "      <td>28</td>\n",
       "      <td>6.0</td>\n",
       "      <td>13.5</td>\n",
       "      <td>7</td>\n",
       "      <td>1</td>\n",
       "      <td>0</td>\n",
       "      <td>1</td>\n",
       "      <td>6</td>\n",
       "    </tr>\n",
       "    <tr>\n",
       "      <th>2</th>\n",
       "      <td>3</td>\n",
       "      <td>128</td>\n",
       "      <td>70</td>\n",
       "      <td>42</td>\n",
       "      <td>6.0</td>\n",
       "      <td>14.5</td>\n",
       "      <td>3</td>\n",
       "      <td>1</td>\n",
       "      <td>1</td>\n",
       "      <td>1</td>\n",
       "      <td>3</td>\n",
       "    </tr>\n",
       "    <tr>\n",
       "      <th>3</th>\n",
       "      <td>4</td>\n",
       "      <td>95</td>\n",
       "      <td>61</td>\n",
       "      <td>37</td>\n",
       "      <td>6.0</td>\n",
       "      <td>13.5</td>\n",
       "      <td>7</td>\n",
       "      <td>1</td>\n",
       "      <td>0</td>\n",
       "      <td>1</td>\n",
       "      <td>1</td>\n",
       "    </tr>\n",
       "    <tr>\n",
       "      <th>4</th>\n",
       "      <td>5</td>\n",
       "      <td>330</td>\n",
       "      <td>104</td>\n",
       "      <td>60</td>\n",
       "      <td>11.0</td>\n",
       "      <td>10.5</td>\n",
       "      <td>7</td>\n",
       "      <td>0</td>\n",
       "      <td>1</td>\n",
       "      <td>1</td>\n",
       "      <td>3</td>\n",
       "    </tr>\n",
       "  </tbody>\n",
       "</table>\n",
       "</div>"
      ],
      "text/plain": [
       "   Unnamed: 0  price  totsp  livesp  kitsp  dist  metrdist  walk  brick  \\\n",
       "0           1     81     58      40    6.0  12.5         7     1      1   \n",
       "1           2     75     44      28    6.0  13.5         7     1      0   \n",
       "2           3    128     70      42    6.0  14.5         3     1      1   \n",
       "3           4     95     61      37    6.0  13.5         7     1      0   \n",
       "4           5    330    104      60   11.0  10.5         7     0      1   \n",
       "\n",
       "   floor  code  \n",
       "0      1     3  \n",
       "1      1     6  \n",
       "2      1     3  \n",
       "3      1     1  \n",
       "4      1     3  "
      ]
     },
     "execution_count": 5,
     "metadata": {},
     "output_type": "execute_result"
    }
   ],
   "source": [
    "df.head()"
   ]
  },
  {
   "cell_type": "markdown",
   "id": "b9a9ce1c",
   "metadata": {},
   "source": [
    "Посмотрим типы признаков"
   ]
  },
  {
   "cell_type": "code",
   "execution_count": 6,
   "id": "5c64455f",
   "metadata": {},
   "outputs": [
    {
     "data": {
      "text/plain": [
       "Unnamed: 0      int64\n",
       "price           int64\n",
       "totsp           int64\n",
       "livesp          int64\n",
       "kitsp         float64\n",
       "dist          float64\n",
       "metrdist        int64\n",
       "walk            int64\n",
       "brick           int64\n",
       "floor           int64\n",
       "code            int64\n",
       "dtype: object"
      ]
     },
     "execution_count": 6,
     "metadata": {},
     "output_type": "execute_result"
    }
   ],
   "source": [
    "df.dtypes"
   ]
  },
  {
   "cell_type": "markdown",
   "id": "b2c90181",
   "metadata": {},
   "source": [
    "Проверим данные на наличие пропусков"
   ]
  },
  {
   "cell_type": "code",
   "execution_count": 7,
   "id": "4ba2f352",
   "metadata": {},
   "outputs": [
    {
     "data": {
      "text/plain": [
       "Unnamed: 0    0\n",
       "price         0\n",
       "totsp         0\n",
       "livesp        0\n",
       "kitsp         0\n",
       "dist          0\n",
       "metrdist      0\n",
       "walk          0\n",
       "brick         0\n",
       "floor         0\n",
       "code          0\n",
       "dtype: int64"
      ]
     },
     "execution_count": 7,
     "metadata": {},
     "output_type": "execute_result"
    }
   ],
   "source": [
    "df.isna().sum()"
   ]
  },
  {
   "cell_type": "markdown",
   "id": "6aa69586",
   "metadata": {},
   "source": [
    "Во всех признаках нет na-значений и все они имеют числовой тип"
   ]
  },
  {
   "cell_type": "markdown",
   "id": "2978b9a2",
   "metadata": {},
   "source": [
    "Посмотрим сколько уникальных значений в столбцах"
   ]
  },
  {
   "cell_type": "code",
   "execution_count": 8,
   "id": "f90d6b9a",
   "metadata": {},
   "outputs": [
    {
     "data": {
      "text/plain": [
       "Unnamed: 0    2040\n",
       "price          180\n",
       "totsp           91\n",
       "livesp          58\n",
       "kitsp           22\n",
       "dist            22\n",
       "metrdist        14\n",
       "walk             2\n",
       "brick            2\n",
       "floor            2\n",
       "code             8\n",
       "dtype: int64"
      ]
     },
     "execution_count": 8,
     "metadata": {},
     "output_type": "execute_result"
    }
   ],
   "source": [
    "df.nunique()"
   ]
  },
  {
   "cell_type": "markdown",
   "id": "23b5b03e",
   "metadata": {},
   "source": [
    "Удалим уникальный столбец"
   ]
  },
  {
   "cell_type": "code",
   "execution_count": 9,
   "id": "2363bc48",
   "metadata": {},
   "outputs": [],
   "source": [
    "df.drop(\"Unnamed: 0\", axis=1, inplace=True)"
   ]
  },
  {
   "cell_type": "markdown",
   "id": "f66f609a",
   "metadata": {},
   "source": [
    "## Базовая модель"
   ]
  },
  {
   "cell_type": "code",
   "execution_count": 162,
   "id": "aa9a728f",
   "metadata": {},
   "outputs": [],
   "source": [
    "train = df.drop('price', axis=1)\n",
    "test = df.price"
   ]
  },
  {
   "cell_type": "code",
   "execution_count": 165,
   "id": "a9a8495d",
   "metadata": {},
   "outputs": [],
   "source": [
    "X_train, X_test, y_train, y_test = train_test_split(train, test, test_size=0.3, random_state=0)"
   ]
  },
  {
   "cell_type": "code",
   "execution_count": 166,
   "id": "be88fd0a",
   "metadata": {},
   "outputs": [
    {
     "data": {
      "text/plain": [
       "0.6522764714461098"
      ]
     },
     "execution_count": 166,
     "metadata": {},
     "output_type": "execute_result"
    }
   ],
   "source": [
    "model = Ridge()\n",
    "model.fit(X_train, y_train)\n",
    "y_pred = model.predict(X_test)\n",
    "r2_score(y_test, y_pred)"
   ]
  },
  {
   "cell_type": "markdown",
   "id": "45a7aef9",
   "metadata": {},
   "source": [
    "## Очистка данных"
   ]
  },
  {
   "cell_type": "markdown",
   "id": "ccc0bc8f",
   "metadata": {},
   "source": [
    "### Проверим данные на наличие полных дубликатов"
   ]
  },
  {
   "cell_type": "code",
   "execution_count": 10,
   "id": "57edeb69",
   "metadata": {},
   "outputs": [
    {
     "data": {
      "text/plain": [
       "(43, 10)"
      ]
     },
     "execution_count": 10,
     "metadata": {},
     "output_type": "execute_result"
    }
   ],
   "source": [
    "df[df.duplicated()].shape"
   ]
  },
  {
   "cell_type": "markdown",
   "id": "64327a3c",
   "metadata": {},
   "source": [
    "В нашей выборке присутствует 43 дубликата, удалим их"
   ]
  },
  {
   "cell_type": "code",
   "execution_count": 11,
   "id": "1a59006d",
   "metadata": {},
   "outputs": [],
   "source": [
    "df = df.drop_duplicates().reset_index(drop=True)"
   ]
  },
  {
   "cell_type": "markdown",
   "id": "33b612a6",
   "metadata": {},
   "source": [
    "### Посмотрим как цена зависит от code(район города)"
   ]
  },
  {
   "cell_type": "code",
   "execution_count": 14,
   "id": "39de8931",
   "metadata": {},
   "outputs": [
    {
     "data": {
      "text/plain": [
       "code\n",
       "1    134.376384\n",
       "2    110.153110\n",
       "3    148.313783\n",
       "4    148.305419\n",
       "5    115.981651\n",
       "6    110.610442\n",
       "7    114.684932\n",
       "8    137.140449\n",
       "Name: price, dtype: float64"
      ]
     },
     "execution_count": 14,
     "metadata": {},
     "output_type": "execute_result"
    }
   ],
   "source": [
    "df.groupby(df['code'])['price'].mean()"
   ]
  },
  {
   "cell_type": "code",
   "execution_count": 15,
   "id": "f9a0d21b",
   "metadata": {},
   "outputs": [
    {
     "data": {
      "text/plain": [
       "code\n",
       "1    420\n",
       "2    299\n",
       "3    530\n",
       "4    730\n",
       "5    410\n",
       "6    240\n",
       "7    350\n",
       "8    450\n",
       "Name: price, dtype: int64"
      ]
     },
     "execution_count": 15,
     "metadata": {},
     "output_type": "execute_result"
    }
   ],
   "source": [
    "df.groupby(df['code'])['price'].max()"
   ]
  },
  {
   "cell_type": "markdown",
   "id": "1d7716d8",
   "metadata": {},
   "source": [
    "Как мы можем заметить, квартиры из районов 3 и 4, имеют самую большую цену, в то время как квартиры из районов 2 и 6 имеют самую низкую стоимость"
   ]
  },
  {
   "cell_type": "markdown",
   "id": "64c7112d",
   "metadata": {},
   "source": [
    "### Посмотрим как цена зависит от floor(этаж)"
   ]
  },
  {
   "cell_type": "code",
   "execution_count": 16,
   "id": "74b49aba",
   "metadata": {},
   "outputs": [
    {
     "data": {
      "text/plain": [
       "floor\n",
       "0    114.688995\n",
       "1    131.205826\n",
       "Name: price, dtype: float64"
      ]
     },
     "execution_count": 16,
     "metadata": {},
     "output_type": "execute_result"
    }
   ],
   "source": [
    "df.groupby(df['floor'])['price'].mean()"
   ]
  },
  {
   "cell_type": "code",
   "execution_count": 17,
   "id": "5add3c36",
   "metadata": {},
   "outputs": [
    {
     "data": {
      "text/plain": [
       "floor\n",
       "0    350\n",
       "1    730\n",
       "Name: price, dtype: int64"
      ]
     },
     "execution_count": 17,
     "metadata": {},
     "output_type": "execute_result"
    }
   ],
   "source": [
    "df.groupby(df['floor'])['price'].max()"
   ]
  },
  {
   "cell_type": "markdown",
   "id": "7181b911",
   "metadata": {},
   "source": [
    "Можем заметить, что средняя цена за квартиры, которые продаются на первом или последнем этаже, не сильно отличается от тех, что продаются на других этажах\n",
    "\n",
    "Но  можно заметить, что максимальные цены в двух группах довольно сильно различаются"
   ]
  },
  {
   "cell_type": "markdown",
   "id": "ca7adaaa",
   "metadata": {},
   "source": [
    "### Посмотрим как цена зависит от brick(материал дома)"
   ]
  },
  {
   "cell_type": "code",
   "execution_count": 18,
   "id": "e79fd154",
   "metadata": {},
   "outputs": [
    {
     "data": {
      "text/plain": [
       "brick\n",
       "0    118.236823\n",
       "1    147.460000\n",
       "Name: price, dtype: float64"
      ]
     },
     "execution_count": 18,
     "metadata": {},
     "output_type": "execute_result"
    }
   ],
   "source": [
    "df.groupby(df['brick'])['price'].mean()"
   ]
  },
  {
   "cell_type": "code",
   "execution_count": 19,
   "id": "479b26be",
   "metadata": {},
   "outputs": [
    {
     "data": {
      "text/plain": [
       "floor\n",
       "0    350\n",
       "1    730\n",
       "Name: price, dtype: int64"
      ]
     },
     "execution_count": 19,
     "metadata": {},
     "output_type": "execute_result"
    }
   ],
   "source": [
    "df.groupby(df['floor'])['price'].max()"
   ]
  },
  {
   "cell_type": "markdown",
   "id": "c64c4cd0",
   "metadata": {},
   "source": [
    "Как и с предыдущим признаком, особых различий в среднем не наблюдается, а вот в максимальных значениях есть существенная разница"
   ]
  },
  {
   "cell_type": "markdown",
   "id": "1abd92bf",
   "metadata": {},
   "source": [
    "### Посмотрим распределение целевой переменной"
   ]
  },
  {
   "cell_type": "code",
   "execution_count": 20,
   "id": "b72300ee",
   "metadata": {},
   "outputs": [
    {
     "data": {
      "text/plain": [
       "Text(0, 0.5, 'Количество квартир')"
      ]
     },
     "execution_count": 20,
     "metadata": {},
     "output_type": "execute_result"
    },
    {
     "data": {
      "image/png": "[encoded data removed]",
      "text/plain": [
       "<Figure size 432x288 with 1 Axes>"
      ]
     },
     "metadata": {
      "needs_background": "light"
     },
     "output_type": "display_data"
    }
   ],
   "source": [
    "plt.hist(df.price, color='red', density=True, alpha=0.7, bins=100);\n",
    "\n",
    "plt.title('Гистограмма')\n",
    "plt.xlabel('Цена в 1000$')\n",
    "plt.ylabel('Количество квартир')"
   ]
  },
  {
   "cell_type": "markdown",
   "id": "0bdd2e8e",
   "metadata": {},
   "source": [
    "На графике видная явная ассиметрия и заметны выбросы"
   ]
  },
  {
   "cell_type": "code",
   "execution_count": 21,
   "id": "cad6ddd4",
   "metadata": {},
   "outputs": [
    {
     "data": {
      "text/plain": [
       "<matplotlib.collections.PathCollection at 0x159801ff3a0>"
      ]
     },
     "execution_count": 21,
     "metadata": {},
     "output_type": "execute_result"
    },
    {
     "data": {
      "image/png": "[encoded data removed]",
      "text/plain": [
       "<Figure size 432x288 with 1 Axes>"
      ]
     },
     "metadata": {
      "needs_background": "light"
     },
     "output_type": "display_data"
    }
   ],
   "source": [
    "plt.scatter(x=df.price, y=np.arange(len(df)))"
   ]
  },
  {
   "cell_type": "markdown",
   "id": "9493299e",
   "metadata": {},
   "source": [
    "Посмотрим взаимосвязь price и totsp"
   ]
  },
  {
   "cell_type": "code",
   "execution_count": 22,
   "id": "83d5d8a2",
   "metadata": {},
   "outputs": [
    {
     "data": {
      "text/plain": [
       "<matplotlib.collections.PathCollection at 0x1598027a610>"
      ]
     },
     "execution_count": 22,
     "metadata": {},
     "output_type": "execute_result"
    },
    {
     "data": {
      "image/png": "[encoded data removed]",
      "text/plain": [
       "<Figure size 432x288 with 1 Axes>"
      ]
     },
     "metadata": {
      "needs_background": "light"
     },
     "output_type": "display_data"
    }
   ],
   "source": [
    "plt.scatter(df.price, y=df.totsp, c='red', alpha=0.7)"
   ]
  },
  {
   "cell_type": "markdown",
   "id": "0a0b7020",
   "metadata": {},
   "source": [
    "Можно заметить явные выбросы"
   ]
  },
  {
   "cell_type": "markdown",
   "id": "5c38f6e7",
   "metadata": {},
   "source": [
    "Рассмотрим квартиру, которая находится дальше остальных"
   ]
  },
  {
   "cell_type": "code",
   "execution_count": 23,
   "id": "aca4da75",
   "metadata": {},
   "outputs": [
    {
     "data": {
      "text/html": [
       "<div>\n",
       "<style scoped>\n",
       "    .dataframe tbody tr th:only-of-type {\n",
       "        vertical-align: middle;\n",
       "    }\n",
       "\n",
       "    .dataframe tbody tr th {\n",
       "        vertical-align: top;\n",
       "    }\n",
       "\n",
       "    .dataframe thead th {\n",
       "        text-align: right;\n",
       "    }\n",
       "</style>\n",
       "<table border=\"1\" class=\"dataframe\">\n",
       "  <thead>\n",
       "    <tr style=\"text-align: right;\">\n",
       "      <th></th>\n",
       "      <th>price</th>\n",
       "      <th>totsp</th>\n",
       "      <th>livesp</th>\n",
       "      <th>kitsp</th>\n",
       "      <th>dist</th>\n",
       "      <th>metrdist</th>\n",
       "      <th>walk</th>\n",
       "      <th>brick</th>\n",
       "      <th>floor</th>\n",
       "      <th>code</th>\n",
       "    </tr>\n",
       "  </thead>\n",
       "  <tbody>\n",
       "    <tr>\n",
       "      <th>953</th>\n",
       "      <td>730</td>\n",
       "      <td>134</td>\n",
       "      <td>102</td>\n",
       "      <td>10.0</td>\n",
       "      <td>9.0</td>\n",
       "      <td>10</td>\n",
       "      <td>1</td>\n",
       "      <td>1</td>\n",
       "      <td>1</td>\n",
       "      <td>4</td>\n",
       "    </tr>\n",
       "  </tbody>\n",
       "</table>\n",
       "</div>"
      ],
      "text/plain": [
       "     price  totsp  livesp  kitsp  dist  metrdist  walk  brick  floor  code\n",
       "953    730    134     102   10.0   9.0        10     1      1      1     4"
      ]
     },
     "execution_count": 23,
     "metadata": {},
     "output_type": "execute_result"
    }
   ],
   "source": [
    "df[df.price == df.price.max()]"
   ]
  },
  {
   "cell_type": "markdown",
   "id": "e0f7551b",
   "metadata": {},
   "source": [
    "Сравним эту квартиру с остальными квартирами, которые имеют примерно схожие параметры"
   ]
  },
  {
   "cell_type": "code",
   "execution_count": 24,
   "id": "14172263",
   "metadata": {},
   "outputs": [
    {
     "data": {
      "text/html": [
       "<div>\n",
       "<style scoped>\n",
       "    .dataframe tbody tr th:only-of-type {\n",
       "        vertical-align: middle;\n",
       "    }\n",
       "\n",
       "    .dataframe tbody tr th {\n",
       "        vertical-align: top;\n",
       "    }\n",
       "\n",
       "    .dataframe thead th {\n",
       "        text-align: right;\n",
       "    }\n",
       "</style>\n",
       "<table border=\"1\" class=\"dataframe\">\n",
       "  <thead>\n",
       "    <tr style=\"text-align: right;\">\n",
       "      <th></th>\n",
       "      <th>price</th>\n",
       "      <th>totsp</th>\n",
       "      <th>livesp</th>\n",
       "      <th>kitsp</th>\n",
       "      <th>dist</th>\n",
       "      <th>metrdist</th>\n",
       "      <th>walk</th>\n",
       "      <th>brick</th>\n",
       "      <th>floor</th>\n",
       "      <th>code</th>\n",
       "    </tr>\n",
       "  </thead>\n",
       "  <tbody>\n",
       "    <tr>\n",
       "      <th>953</th>\n",
       "      <td>730</td>\n",
       "      <td>134</td>\n",
       "      <td>102</td>\n",
       "      <td>10.0</td>\n",
       "      <td>9.0</td>\n",
       "      <td>10</td>\n",
       "      <td>1</td>\n",
       "      <td>1</td>\n",
       "      <td>1</td>\n",
       "      <td>4</td>\n",
       "    </tr>\n",
       "    <tr>\n",
       "      <th>1625</th>\n",
       "      <td>530</td>\n",
       "      <td>150</td>\n",
       "      <td>80</td>\n",
       "      <td>15.0</td>\n",
       "      <td>7.5</td>\n",
       "      <td>7</td>\n",
       "      <td>1</td>\n",
       "      <td>1</td>\n",
       "      <td>1</td>\n",
       "      <td>3</td>\n",
       "    </tr>\n",
       "    <tr>\n",
       "      <th>1500</th>\n",
       "      <td>477</td>\n",
       "      <td>119</td>\n",
       "      <td>93</td>\n",
       "      <td>15.0</td>\n",
       "      <td>9.0</td>\n",
       "      <td>1</td>\n",
       "      <td>1</td>\n",
       "      <td>0</td>\n",
       "      <td>1</td>\n",
       "      <td>3</td>\n",
       "    </tr>\n",
       "    <tr>\n",
       "      <th>101</th>\n",
       "      <td>470</td>\n",
       "      <td>120</td>\n",
       "      <td>75</td>\n",
       "      <td>18.0</td>\n",
       "      <td>9.0</td>\n",
       "      <td>10</td>\n",
       "      <td>1</td>\n",
       "      <td>1</td>\n",
       "      <td>1</td>\n",
       "      <td>3</td>\n",
       "    </tr>\n",
       "    <tr>\n",
       "      <th>875</th>\n",
       "      <td>470</td>\n",
       "      <td>146</td>\n",
       "      <td>86</td>\n",
       "      <td>16.0</td>\n",
       "      <td>14.5</td>\n",
       "      <td>5</td>\n",
       "      <td>1</td>\n",
       "      <td>1</td>\n",
       "      <td>1</td>\n",
       "      <td>3</td>\n",
       "    </tr>\n",
       "    <tr>\n",
       "      <th>1041</th>\n",
       "      <td>460</td>\n",
       "      <td>153</td>\n",
       "      <td>84</td>\n",
       "      <td>18.0</td>\n",
       "      <td>9.0</td>\n",
       "      <td>5</td>\n",
       "      <td>1</td>\n",
       "      <td>1</td>\n",
       "      <td>1</td>\n",
       "      <td>4</td>\n",
       "    </tr>\n",
       "    <tr>\n",
       "      <th>620</th>\n",
       "      <td>455</td>\n",
       "      <td>192</td>\n",
       "      <td>92</td>\n",
       "      <td>18.0</td>\n",
       "      <td>7.5</td>\n",
       "      <td>5</td>\n",
       "      <td>1</td>\n",
       "      <td>0</td>\n",
       "      <td>1</td>\n",
       "      <td>3</td>\n",
       "    </tr>\n",
       "    <tr>\n",
       "      <th>1895</th>\n",
       "      <td>451</td>\n",
       "      <td>156</td>\n",
       "      <td>80</td>\n",
       "      <td>20.0</td>\n",
       "      <td>10.5</td>\n",
       "      <td>5</td>\n",
       "      <td>0</td>\n",
       "      <td>1</td>\n",
       "      <td>1</td>\n",
       "      <td>3</td>\n",
       "    </tr>\n",
       "    <tr>\n",
       "      <th>263</th>\n",
       "      <td>450</td>\n",
       "      <td>145</td>\n",
       "      <td>82</td>\n",
       "      <td>14.0</td>\n",
       "      <td>4.5</td>\n",
       "      <td>3</td>\n",
       "      <td>1</td>\n",
       "      <td>1</td>\n",
       "      <td>1</td>\n",
       "      <td>8</td>\n",
       "    </tr>\n",
       "    <tr>\n",
       "      <th>35</th>\n",
       "      <td>450</td>\n",
       "      <td>125</td>\n",
       "      <td>80</td>\n",
       "      <td>20.0</td>\n",
       "      <td>9.0</td>\n",
       "      <td>3</td>\n",
       "      <td>1</td>\n",
       "      <td>0</td>\n",
       "      <td>1</td>\n",
       "      <td>4</td>\n",
       "    </tr>\n",
       "  </tbody>\n",
       "</table>\n",
       "</div>"
      ],
      "text/plain": [
       "      price  totsp  livesp  kitsp  dist  metrdist  walk  brick  floor  code\n",
       "953     730    134     102   10.0   9.0        10     1      1      1     4\n",
       "1625    530    150      80   15.0   7.5         7     1      1      1     3\n",
       "1500    477    119      93   15.0   9.0         1     1      0      1     3\n",
       "101     470    120      75   18.0   9.0        10     1      1      1     3\n",
       "875     470    146      86   16.0  14.5         5     1      1      1     3\n",
       "1041    460    153      84   18.0   9.0         5     1      1      1     4\n",
       "620     455    192      92   18.0   7.5         5     1      0      1     3\n",
       "1895    451    156      80   20.0  10.5         5     0      1      1     3\n",
       "263     450    145      82   14.0   4.5         3     1      1      1     8\n",
       "35      450    125      80   20.0   9.0         3     1      0      1     4"
      ]
     },
     "execution_count": 24,
     "metadata": {},
     "output_type": "execute_result"
    }
   ],
   "source": [
    "df.sort_values(by='price', ascending=False).head(10)"
   ]
  },
  {
   "cell_type": "markdown",
   "id": "5e18edfa",
   "metadata": {},
   "source": [
    "Как мы можем заметить, по некоторым признакам эта квартира уступает другим, более дешевым\n"
   ]
  },
  {
   "cell_type": "markdown",
   "id": "74417b3b",
   "metadata": {},
   "source": [
    "Возможно дело в том, что у неё самая большая жилая площадь"
   ]
  },
  {
   "cell_type": "code",
   "execution_count": 25,
   "id": "7e512dd6",
   "metadata": {},
   "outputs": [
    {
     "data": {
      "text/html": [
       "<div>\n",
       "<style scoped>\n",
       "    .dataframe tbody tr th:only-of-type {\n",
       "        vertical-align: middle;\n",
       "    }\n",
       "\n",
       "    .dataframe tbody tr th {\n",
       "        vertical-align: top;\n",
       "    }\n",
       "\n",
       "    .dataframe thead th {\n",
       "        text-align: right;\n",
       "    }\n",
       "</style>\n",
       "<table border=\"1\" class=\"dataframe\">\n",
       "  <thead>\n",
       "    <tr style=\"text-align: right;\">\n",
       "      <th></th>\n",
       "      <th>price</th>\n",
       "      <th>totsp</th>\n",
       "      <th>livesp</th>\n",
       "      <th>kitsp</th>\n",
       "      <th>dist</th>\n",
       "      <th>metrdist</th>\n",
       "      <th>walk</th>\n",
       "      <th>brick</th>\n",
       "      <th>floor</th>\n",
       "      <th>code</th>\n",
       "    </tr>\n",
       "  </thead>\n",
       "  <tbody>\n",
       "    <tr>\n",
       "      <th>953</th>\n",
       "      <td>730</td>\n",
       "      <td>134</td>\n",
       "      <td>102</td>\n",
       "      <td>10.0</td>\n",
       "      <td>9.0</td>\n",
       "      <td>10</td>\n",
       "      <td>1</td>\n",
       "      <td>1</td>\n",
       "      <td>1</td>\n",
       "      <td>4</td>\n",
       "    </tr>\n",
       "    <tr>\n",
       "      <th>1500</th>\n",
       "      <td>477</td>\n",
       "      <td>119</td>\n",
       "      <td>93</td>\n",
       "      <td>15.0</td>\n",
       "      <td>9.0</td>\n",
       "      <td>1</td>\n",
       "      <td>1</td>\n",
       "      <td>0</td>\n",
       "      <td>1</td>\n",
       "      <td>3</td>\n",
       "    </tr>\n",
       "    <tr>\n",
       "      <th>620</th>\n",
       "      <td>455</td>\n",
       "      <td>192</td>\n",
       "      <td>92</td>\n",
       "      <td>18.0</td>\n",
       "      <td>7.5</td>\n",
       "      <td>5</td>\n",
       "      <td>1</td>\n",
       "      <td>0</td>\n",
       "      <td>1</td>\n",
       "      <td>3</td>\n",
       "    </tr>\n",
       "    <tr>\n",
       "      <th>1920</th>\n",
       "      <td>265</td>\n",
       "      <td>136</td>\n",
       "      <td>88</td>\n",
       "      <td>14.0</td>\n",
       "      <td>10.5</td>\n",
       "      <td>10</td>\n",
       "      <td>1</td>\n",
       "      <td>1</td>\n",
       "      <td>1</td>\n",
       "      <td>3</td>\n",
       "    </tr>\n",
       "    <tr>\n",
       "      <th>875</th>\n",
       "      <td>470</td>\n",
       "      <td>146</td>\n",
       "      <td>86</td>\n",
       "      <td>16.0</td>\n",
       "      <td>14.5</td>\n",
       "      <td>5</td>\n",
       "      <td>1</td>\n",
       "      <td>1</td>\n",
       "      <td>1</td>\n",
       "      <td>3</td>\n",
       "    </tr>\n",
       "  </tbody>\n",
       "</table>\n",
       "</div>"
      ],
      "text/plain": [
       "      price  totsp  livesp  kitsp  dist  metrdist  walk  brick  floor  code\n",
       "953     730    134     102   10.0   9.0        10     1      1      1     4\n",
       "1500    477    119      93   15.0   9.0         1     1      0      1     3\n",
       "620     455    192      92   18.0   7.5         5     1      0      1     3\n",
       "1920    265    136      88   14.0  10.5        10     1      1      1     3\n",
       "875     470    146      86   16.0  14.5         5     1      1      1     3"
      ]
     },
     "execution_count": 25,
     "metadata": {},
     "output_type": "execute_result"
    }
   ],
   "source": [
    "df.sort_values(by='livesp', ascending=False).head()"
   ]
  },
  {
   "cell_type": "markdown",
   "id": "2358ed04",
   "metadata": {},
   "source": [
    "Да, у неё действительно самая большая жилая площадь"
   ]
  },
  {
   "cell_type": "markdown",
   "id": "1a8ec412",
   "metadata": {},
   "source": [
    "Попробуем её удалить, потому что по остальным характеристикам она уступает более дешевым квартирам"
   ]
  },
  {
   "cell_type": "code",
   "execution_count": 26,
   "id": "5ecb8ef4",
   "metadata": {},
   "outputs": [],
   "source": [
    "df_without_max_price_flat = df.drop(953)"
   ]
  },
  {
   "cell_type": "markdown",
   "id": "8cb7d8e3",
   "metadata": {},
   "source": [
    "Остальные квартиры не выделяются завышенными ценами"
   ]
  },
  {
   "cell_type": "markdown",
   "id": "8944b964",
   "metadata": {},
   "source": [
    "Проверим квартиры по остальными признакам"
   ]
  },
  {
   "cell_type": "markdown",
   "id": "fcbb0642",
   "metadata": {},
   "source": [
    "### Проверим на аномалии столбец totsp(общая площадь)"
   ]
  },
  {
   "cell_type": "code",
   "execution_count": 27,
   "id": "4f9c4725",
   "metadata": {},
   "outputs": [
    {
     "data": {
      "text/plain": [
       "<matplotlib.collections.PathCollection at 0x159802f8790>"
      ]
     },
     "execution_count": 27,
     "metadata": {},
     "output_type": "execute_result"
    },
    {
     "data": {
      "image/png": "[encoded data removed]",
      "text/plain": [
       "<Figure size 432x288 with 1 Axes>"
      ]
     },
     "metadata": {
      "needs_background": "light"
     },
     "output_type": "display_data"
    }
   ],
   "source": [
    "plt.scatter(x=df_without_max_price_flat.totsp, y=np.arange(len(df_without_max_price_flat)), c='red', alpha=0.5)"
   ]
  },
  {
   "cell_type": "markdown",
   "id": "63c514a8",
   "metadata": {},
   "source": [
    "На графике видны явные аномалии"
   ]
  },
  {
   "cell_type": "markdown",
   "id": "03c0ebd9",
   "metadata": {},
   "source": [
    "Отсортируем квартиры по размеру площади и сравним с ценой за квартиру"
   ]
  },
  {
   "cell_type": "code",
   "execution_count": 28,
   "id": "10e2dfce",
   "metadata": {},
   "outputs": [
    {
     "data": {
      "text/html": [
       "<div>\n",
       "<style scoped>\n",
       "    .dataframe tbody tr th:only-of-type {\n",
       "        vertical-align: middle;\n",
       "    }\n",
       "\n",
       "    .dataframe tbody tr th {\n",
       "        vertical-align: top;\n",
       "    }\n",
       "\n",
       "    .dataframe thead th {\n",
       "        text-align: right;\n",
       "    }\n",
       "</style>\n",
       "<table border=\"1\" class=\"dataframe\">\n",
       "  <thead>\n",
       "    <tr style=\"text-align: right;\">\n",
       "      <th></th>\n",
       "      <th>price</th>\n",
       "      <th>totsp</th>\n",
       "      <th>livesp</th>\n",
       "      <th>kitsp</th>\n",
       "      <th>dist</th>\n",
       "      <th>metrdist</th>\n",
       "      <th>walk</th>\n",
       "      <th>brick</th>\n",
       "      <th>floor</th>\n",
       "      <th>code</th>\n",
       "    </tr>\n",
       "  </thead>\n",
       "  <tbody>\n",
       "    <tr>\n",
       "      <th>620</th>\n",
       "      <td>455</td>\n",
       "      <td>192</td>\n",
       "      <td>92</td>\n",
       "      <td>18.0</td>\n",
       "      <td>7.5</td>\n",
       "      <td>5</td>\n",
       "      <td>1</td>\n",
       "      <td>0</td>\n",
       "      <td>1</td>\n",
       "      <td>3</td>\n",
       "    </tr>\n",
       "    <tr>\n",
       "      <th>150</th>\n",
       "      <td>372</td>\n",
       "      <td>158</td>\n",
       "      <td>80</td>\n",
       "      <td>20.0</td>\n",
       "      <td>10.5</td>\n",
       "      <td>10</td>\n",
       "      <td>1</td>\n",
       "      <td>0</td>\n",
       "      <td>1</td>\n",
       "      <td>3</td>\n",
       "    </tr>\n",
       "    <tr>\n",
       "      <th>1895</th>\n",
       "      <td>451</td>\n",
       "      <td>156</td>\n",
       "      <td>80</td>\n",
       "      <td>20.0</td>\n",
       "      <td>10.5</td>\n",
       "      <td>5</td>\n",
       "      <td>0</td>\n",
       "      <td>1</td>\n",
       "      <td>1</td>\n",
       "      <td>3</td>\n",
       "    </tr>\n",
       "    <tr>\n",
       "      <th>1041</th>\n",
       "      <td>460</td>\n",
       "      <td>153</td>\n",
       "      <td>84</td>\n",
       "      <td>18.0</td>\n",
       "      <td>9.0</td>\n",
       "      <td>5</td>\n",
       "      <td>1</td>\n",
       "      <td>1</td>\n",
       "      <td>1</td>\n",
       "      <td>4</td>\n",
       "    </tr>\n",
       "    <tr>\n",
       "      <th>1505</th>\n",
       "      <td>415</td>\n",
       "      <td>152</td>\n",
       "      <td>80</td>\n",
       "      <td>17.0</td>\n",
       "      <td>3.0</td>\n",
       "      <td>5</td>\n",
       "      <td>1</td>\n",
       "      <td>0</td>\n",
       "      <td>1</td>\n",
       "      <td>1</td>\n",
       "    </tr>\n",
       "    <tr>\n",
       "      <th>1625</th>\n",
       "      <td>530</td>\n",
       "      <td>150</td>\n",
       "      <td>80</td>\n",
       "      <td>15.0</td>\n",
       "      <td>7.5</td>\n",
       "      <td>7</td>\n",
       "      <td>1</td>\n",
       "      <td>1</td>\n",
       "      <td>1</td>\n",
       "      <td>3</td>\n",
       "    </tr>\n",
       "    <tr>\n",
       "      <th>862</th>\n",
       "      <td>220</td>\n",
       "      <td>148</td>\n",
       "      <td>85</td>\n",
       "      <td>14.0</td>\n",
       "      <td>14.5</td>\n",
       "      <td>7</td>\n",
       "      <td>0</td>\n",
       "      <td>1</td>\n",
       "      <td>1</td>\n",
       "      <td>3</td>\n",
       "    </tr>\n",
       "    <tr>\n",
       "      <th>875</th>\n",
       "      <td>470</td>\n",
       "      <td>146</td>\n",
       "      <td>86</td>\n",
       "      <td>16.0</td>\n",
       "      <td>14.5</td>\n",
       "      <td>5</td>\n",
       "      <td>1</td>\n",
       "      <td>1</td>\n",
       "      <td>1</td>\n",
       "      <td>3</td>\n",
       "    </tr>\n",
       "    <tr>\n",
       "      <th>763</th>\n",
       "      <td>280</td>\n",
       "      <td>145</td>\n",
       "      <td>66</td>\n",
       "      <td>16.0</td>\n",
       "      <td>12.7</td>\n",
       "      <td>3</td>\n",
       "      <td>1</td>\n",
       "      <td>0</td>\n",
       "      <td>0</td>\n",
       "      <td>5</td>\n",
       "    </tr>\n",
       "    <tr>\n",
       "      <th>263</th>\n",
       "      <td>450</td>\n",
       "      <td>145</td>\n",
       "      <td>82</td>\n",
       "      <td>14.0</td>\n",
       "      <td>4.5</td>\n",
       "      <td>3</td>\n",
       "      <td>1</td>\n",
       "      <td>1</td>\n",
       "      <td>1</td>\n",
       "      <td>8</td>\n",
       "    </tr>\n",
       "  </tbody>\n",
       "</table>\n",
       "</div>"
      ],
      "text/plain": [
       "      price  totsp  livesp  kitsp  dist  metrdist  walk  brick  floor  code\n",
       "620     455    192      92   18.0   7.5         5     1      0      1     3\n",
       "150     372    158      80   20.0  10.5        10     1      0      1     3\n",
       "1895    451    156      80   20.0  10.5         5     0      1      1     3\n",
       "1041    460    153      84   18.0   9.0         5     1      1      1     4\n",
       "1505    415    152      80   17.0   3.0         5     1      0      1     1\n",
       "1625    530    150      80   15.0   7.5         7     1      1      1     3\n",
       "862     220    148      85   14.0  14.5         7     0      1      1     3\n",
       "875     470    146      86   16.0  14.5         5     1      1      1     3\n",
       "763     280    145      66   16.0  12.7         3     1      0      0     5\n",
       "263     450    145      82   14.0   4.5         3     1      1      1     8"
      ]
     },
     "execution_count": 28,
     "metadata": {},
     "output_type": "execute_result"
    }
   ],
   "source": [
    "df_without_max_price_flat.sort_values(by='totsp', ascending=False).head(10)"
   ]
  },
  {
   "cell_type": "markdown",
   "id": "a6f16e43",
   "metadata": {},
   "source": [
    "Как мы видим, у этой квартиры не самый высокий ценник, хотя у неё самая большая площадь\n",
    "\n",
    "По остальным характеристикам она не сильно отличается от похожих квартир"
   ]
  },
  {
   "cell_type": "markdown",
   "id": "ebf8f7ec",
   "metadata": {},
   "source": [
    "Удалим эту квартиру"
   ]
  },
  {
   "cell_type": "code",
   "execution_count": 29,
   "id": "29fcbd58",
   "metadata": {},
   "outputs": [],
   "source": [
    "df_without_max_price_flat_totsp = df_without_max_price_flat.drop(620)"
   ]
  },
  {
   "cell_type": "markdown",
   "id": "65622699",
   "metadata": {},
   "source": [
    "### Проверим на аномалии столбец livesp (жилая площадь)"
   ]
  },
  {
   "cell_type": "markdown",
   "id": "3cdaecd3",
   "metadata": {},
   "source": [
    "Посмотрим взаимосвязь totsp и livesp"
   ]
  },
  {
   "cell_type": "code",
   "execution_count": 128,
   "id": "f553326a",
   "metadata": {},
   "outputs": [
    {
     "data": {
      "image/png": "[encoded data removed]",
      "text/plain": [
       "<Figure size 432x288 with 1 Axes>"
      ]
     },
     "metadata": {
      "needs_background": "light"
     },
     "output_type": "display_data"
    }
   ],
   "source": [
    "plt.scatter(df_without_max_price_flat_totsp.livesp, y=df_without_max_price_flat_totsp.totsp, c='red', alpha=0.7);"
   ]
  },
  {
   "cell_type": "markdown",
   "id": "086892e1",
   "metadata": {},
   "source": [
    "Как мы видим, столбцы livesp(жилая площадь) и totsp(общая площадь) квартиры имеют сильную корреляцию "
   ]
  },
  {
   "cell_type": "markdown",
   "id": "434cedfe",
   "metadata": {},
   "source": [
    "Нельзя однозначно сказать, что есть аномалии"
   ]
  },
  {
   "cell_type": "markdown",
   "id": "305a5c6c",
   "metadata": {},
   "source": [
    "### Проверим на аномалии столбец kitsp (площадь кухни)"
   ]
  },
  {
   "cell_type": "markdown",
   "id": "e91c91d6",
   "metadata": {},
   "source": [
    "Посмотрим распределение этого столбца"
   ]
  },
  {
   "cell_type": "code",
   "execution_count": 31,
   "id": "a98deb76",
   "metadata": {},
   "outputs": [
    {
     "data": {
      "image/png": "[encoded data removed]",
      "text/plain": [
       "<Figure size 432x288 with 1 Axes>"
      ]
     },
     "metadata": {
      "needs_background": "light"
     },
     "output_type": "display_data"
    }
   ],
   "source": [
    "plt.hist(df_without_max_price_flat_totsp.kitsp, bins=len(df_without_max_price_flat_totsp.kitsp.unique()));"
   ]
  },
  {
   "cell_type": "markdown",
   "id": "c412935e",
   "metadata": {},
   "source": [
    "На графике видны квартиры, у которых большая площадь кухни, возможно у этих квартир большая общая площадь"
   ]
  },
  {
   "cell_type": "code",
   "execution_count": 32,
   "id": "2bb6b00a",
   "metadata": {},
   "outputs": [
    {
     "data": {
      "text/plain": [
       "<matplotlib.collections.PathCollection at 0x159814375b0>"
      ]
     },
     "execution_count": 32,
     "metadata": {},
     "output_type": "execute_result"
    },
    {
     "data": {
      "image/png": "[encoded data removed]",
      "text/plain": [
       "<Figure size 432x288 with 1 Axes>"
      ]
     },
     "metadata": {
      "needs_background": "light"
     },
     "output_type": "display_data"
    }
   ],
   "source": [
    "plt.scatter(df_without_max_price_flat_totsp.kitsp, y=df_without_max_price_flat_totsp.totsp, c='red', alpha=0.7)"
   ]
  },
  {
   "cell_type": "markdown",
   "id": "b5c2efd2",
   "metadata": {},
   "source": [
    "Заметны выбросы (квартиры у которых большая площадь кухни, но маленькая площадь всей квартиры)"
   ]
  },
  {
   "cell_type": "markdown",
   "id": "757ba2f6",
   "metadata": {},
   "source": [
    "Отсортируем квартиры по площади кухни"
   ]
  },
  {
   "cell_type": "code",
   "execution_count": 33,
   "id": "3ede17e4",
   "metadata": {},
   "outputs": [
    {
     "data": {
      "text/html": [
       "<div>\n",
       "<style scoped>\n",
       "    .dataframe tbody tr th:only-of-type {\n",
       "        vertical-align: middle;\n",
       "    }\n",
       "\n",
       "    .dataframe tbody tr th {\n",
       "        vertical-align: top;\n",
       "    }\n",
       "\n",
       "    .dataframe thead th {\n",
       "        text-align: right;\n",
       "    }\n",
       "</style>\n",
       "<table border=\"1\" class=\"dataframe\">\n",
       "  <thead>\n",
       "    <tr style=\"text-align: right;\">\n",
       "      <th></th>\n",
       "      <th>price</th>\n",
       "      <th>totsp</th>\n",
       "      <th>livesp</th>\n",
       "      <th>kitsp</th>\n",
       "      <th>dist</th>\n",
       "      <th>metrdist</th>\n",
       "      <th>walk</th>\n",
       "      <th>brick</th>\n",
       "      <th>floor</th>\n",
       "      <th>code</th>\n",
       "    </tr>\n",
       "  </thead>\n",
       "  <tbody>\n",
       "    <tr>\n",
       "      <th>1112</th>\n",
       "      <td>153</td>\n",
       "      <td>80</td>\n",
       "      <td>40</td>\n",
       "      <td>25.0</td>\n",
       "      <td>10.5</td>\n",
       "      <td>10</td>\n",
       "      <td>0</td>\n",
       "      <td>0</td>\n",
       "      <td>1</td>\n",
       "      <td>3</td>\n",
       "    </tr>\n",
       "    <tr>\n",
       "      <th>517</th>\n",
       "      <td>190</td>\n",
       "      <td>106</td>\n",
       "      <td>58</td>\n",
       "      <td>24.0</td>\n",
       "      <td>9.0</td>\n",
       "      <td>5</td>\n",
       "      <td>0</td>\n",
       "      <td>0</td>\n",
       "      <td>1</td>\n",
       "      <td>4</td>\n",
       "    </tr>\n",
       "    <tr>\n",
       "      <th>1653</th>\n",
       "      <td>145</td>\n",
       "      <td>76</td>\n",
       "      <td>44</td>\n",
       "      <td>24.0</td>\n",
       "      <td>12.7</td>\n",
       "      <td>2</td>\n",
       "      <td>1</td>\n",
       "      <td>0</td>\n",
       "      <td>0</td>\n",
       "      <td>5</td>\n",
       "    </tr>\n",
       "    <tr>\n",
       "      <th>1105</th>\n",
       "      <td>252</td>\n",
       "      <td>132</td>\n",
       "      <td>74</td>\n",
       "      <td>23.0</td>\n",
       "      <td>12.5</td>\n",
       "      <td>3</td>\n",
       "      <td>1</td>\n",
       "      <td>1</td>\n",
       "      <td>0</td>\n",
       "      <td>3</td>\n",
       "    </tr>\n",
       "    <tr>\n",
       "      <th>663</th>\n",
       "      <td>240</td>\n",
       "      <td>105</td>\n",
       "      <td>55</td>\n",
       "      <td>23.0</td>\n",
       "      <td>10.0</td>\n",
       "      <td>5</td>\n",
       "      <td>1</td>\n",
       "      <td>0</td>\n",
       "      <td>1</td>\n",
       "      <td>6</td>\n",
       "    </tr>\n",
       "    <tr>\n",
       "      <th>1934</th>\n",
       "      <td>135</td>\n",
       "      <td>105</td>\n",
       "      <td>58</td>\n",
       "      <td>21.0</td>\n",
       "      <td>13.5</td>\n",
       "      <td>15</td>\n",
       "      <td>1</td>\n",
       "      <td>1</td>\n",
       "      <td>1</td>\n",
       "      <td>1</td>\n",
       "    </tr>\n",
       "    <tr>\n",
       "      <th>777</th>\n",
       "      <td>200</td>\n",
       "      <td>100</td>\n",
       "      <td>66</td>\n",
       "      <td>21.0</td>\n",
       "      <td>9.0</td>\n",
       "      <td>15</td>\n",
       "      <td>1</td>\n",
       "      <td>1</td>\n",
       "      <td>1</td>\n",
       "      <td>3</td>\n",
       "    </tr>\n",
       "    <tr>\n",
       "      <th>1544</th>\n",
       "      <td>207</td>\n",
       "      <td>134</td>\n",
       "      <td>77</td>\n",
       "      <td>21.0</td>\n",
       "      <td>15.5</td>\n",
       "      <td>5</td>\n",
       "      <td>1</td>\n",
       "      <td>0</td>\n",
       "      <td>1</td>\n",
       "      <td>1</td>\n",
       "    </tr>\n",
       "    <tr>\n",
       "      <th>1299</th>\n",
       "      <td>317</td>\n",
       "      <td>135</td>\n",
       "      <td>70</td>\n",
       "      <td>20.0</td>\n",
       "      <td>9.0</td>\n",
       "      <td>2</td>\n",
       "      <td>1</td>\n",
       "      <td>0</td>\n",
       "      <td>1</td>\n",
       "      <td>3</td>\n",
       "    </tr>\n",
       "    <tr>\n",
       "      <th>527</th>\n",
       "      <td>350</td>\n",
       "      <td>113</td>\n",
       "      <td>85</td>\n",
       "      <td>20.0</td>\n",
       "      <td>9.0</td>\n",
       "      <td>10</td>\n",
       "      <td>1</td>\n",
       "      <td>0</td>\n",
       "      <td>1</td>\n",
       "      <td>3</td>\n",
       "    </tr>\n",
       "  </tbody>\n",
       "</table>\n",
       "</div>"
      ],
      "text/plain": [
       "      price  totsp  livesp  kitsp  dist  metrdist  walk  brick  floor  code\n",
       "1112    153     80      40   25.0  10.5        10     0      0      1     3\n",
       "517     190    106      58   24.0   9.0         5     0      0      1     4\n",
       "1653    145     76      44   24.0  12.7         2     1      0      0     5\n",
       "1105    252    132      74   23.0  12.5         3     1      1      0     3\n",
       "663     240    105      55   23.0  10.0         5     1      0      1     6\n",
       "1934    135    105      58   21.0  13.5        15     1      1      1     1\n",
       "777     200    100      66   21.0   9.0        15     1      1      1     3\n",
       "1544    207    134      77   21.0  15.5         5     1      0      1     1\n",
       "1299    317    135      70   20.0   9.0         2     1      0      1     3\n",
       "527     350    113      85   20.0   9.0        10     1      0      1     3"
      ]
     },
     "execution_count": 33,
     "metadata": {},
     "output_type": "execute_result"
    }
   ],
   "source": [
    "df_without_max_price_flat_totsp.sort_values(by='kitsp', ascending=False).head(10)"
   ]
  },
  {
   "cell_type": "markdown",
   "id": "db150d17",
   "metadata": {},
   "source": [
    "Можно заметить две квартиры, площади которых ниже остальных квартир, но площади кухонь у них больше других"
   ]
  },
  {
   "cell_type": "markdown",
   "id": "b76b4eca",
   "metadata": {},
   "source": [
    "Удалим эти квартиры"
   ]
  },
  {
   "cell_type": "code",
   "execution_count": 59,
   "id": "5979d6c1",
   "metadata": {},
   "outputs": [],
   "source": [
    "df_clean = df_without_max_price_flat_totsp.drop([1112, 1653])"
   ]
  },
  {
   "cell_type": "markdown",
   "id": "a3723f69",
   "metadata": {},
   "source": [
    "Построим таблицу корреляции"
   ]
  },
  {
   "cell_type": "code",
   "execution_count": 35,
   "id": "bb50893f",
   "metadata": {},
   "outputs": [
    {
     "data": {
      "image/png": "[encoded data removed]",
      "text/plain": [
       "<Figure size 864x504 with 2 Axes>"
      ]
     },
     "metadata": {
      "needs_background": "light"
     },
     "output_type": "display_data"
    }
   ],
   "source": [
    "plt.subplots(figsize=(12, 7))\n",
    "sns.heatmap(df_clean.corr(), annot=True, fmt='.3g');"
   ]
  },
  {
   "cell_type": "markdown",
   "id": "a73b7222",
   "metadata": {},
   "source": [
    "Как мы можем заметить, некоторые признаки( totsp, live, kitsp) имеют сильную корреляцию с целевым признаком. \n",
    "\n",
    "Однако эти признаки имеют сильную корреляцию между собой. \n",
    "\n",
    "Можно заметить отрицательную корреляцию между признаками (dist и price) и (brick и dist)."
   ]
  },
  {
   "cell_type": "code",
   "execution_count": 108,
   "id": "82a29791",
   "metadata": {},
   "outputs": [
    {
     "data": {
      "text/plain": [
       "<AxesSubplot:xlabel='dist', ylabel='price'>"
      ]
     },
     "execution_count": 108,
     "metadata": {},
     "output_type": "execute_result"
    },
    {
     "data": {
      "image/png": "[encoded data removed]",
      "text/plain": [
       "<Figure size 432x288 with 1 Axes>"
      ]
     },
     "metadata": {
      "needs_background": "light"
     },
     "output_type": "display_data"
    }
   ],
   "source": [
    "sns.lineplot(data=df_clean, x='dist', y='price')"
   ]
  },
  {
   "cell_type": "markdown",
   "id": "33717a69",
   "metadata": {},
   "source": [
    "На графике видно, что с увеличением расстояния от центра метро цена квартиры падает, хотя также видны скачки "
   ]
  },
  {
   "cell_type": "markdown",
   "id": "f62f3069",
   "metadata": {},
   "source": [
    "## Построение моделей"
   ]
  },
  {
   "cell_type": "markdown",
   "id": "b01e4c9f",
   "metadata": {},
   "source": [
    "### Построение моделей без параметров"
   ]
  },
  {
   "cell_type": "code",
   "execution_count": 167,
   "id": "4f2d0b57",
   "metadata": {},
   "outputs": [],
   "source": [
    "train = df_clean.drop('price', axis=1)\n",
    "test = df_clean.price"
   ]
  },
  {
   "cell_type": "code",
   "execution_count": 168,
   "id": "351eaf06",
   "metadata": {},
   "outputs": [],
   "source": [
    "X_train, X_test, y_train, y_test = train_test_split(train,test, test_size=0.3, random_state=0)"
   ]
  },
  {
   "cell_type": "markdown",
   "id": "047d068b",
   "metadata": {},
   "source": [
    "#### Ridge"
   ]
  },
  {
   "cell_type": "code",
   "execution_count": 169,
   "id": "5ee6e764",
   "metadata": {},
   "outputs": [
    {
     "data": {
      "text/plain": [
       "0.7164216771955073"
      ]
     },
     "execution_count": 169,
     "metadata": {},
     "output_type": "execute_result"
    }
   ],
   "source": [
    "model = Ridge()\n",
    "model.fit(X_train, y_train)\n",
    "y_pred = model.predict(X_test)\n",
    "r2_score(y_test, y_pred)"
   ]
  },
  {
   "cell_type": "markdown",
   "id": "adec7ad6",
   "metadata": {},
   "source": [
    "#### KNeighborsRegressor"
   ]
  },
  {
   "cell_type": "code",
   "execution_count": 175,
   "id": "3ba3fb2c",
   "metadata": {},
   "outputs": [
    {
     "data": {
      "text/plain": [
       "0.7032106926451407"
      ]
     },
     "execution_count": 175,
     "metadata": {},
     "output_type": "execute_result"
    }
   ],
   "source": [
    "model = KNeighborsRegressor()\n",
    "model.fit(X_train, y_train)\n",
    "y_pred = model.predict(X_test)\n",
    "r2_score(y_test, y_pred)"
   ]
  },
  {
   "cell_type": "markdown",
   "id": "d9843831",
   "metadata": {},
   "source": [
    "#### RandomForestRegressor"
   ]
  },
  {
   "cell_type": "code",
   "execution_count": 174,
   "id": "4dbf3d46",
   "metadata": {},
   "outputs": [
    {
     "data": {
      "text/plain": [
       "0.7756632860847967"
      ]
     },
     "execution_count": 174,
     "metadata": {},
     "output_type": "execute_result"
    }
   ],
   "source": [
    "model = RandomForestRegressor(random_state=0)\n",
    "model.fit(X_train, y_train)\n",
    "y_pred = model.predict(X_test)\n",
    "r2_score(y_test, y_pred)"
   ]
  },
  {
   "cell_type": "markdown",
   "id": "d75bca70",
   "metadata": {},
   "source": [
    "Как мы можем заметить, лучше всего отработала модель RandomForestRegressor, Ridge показала хуже результат на 6%, а KNeighborsRegressor на 7% хуже.\n",
    "\n",
    "Подберем для моделей Ridge и RandomForestRegressor гиперпараметры."
   ]
  },
  {
   "cell_type": "markdown",
   "id": "09f25d73",
   "metadata": {},
   "source": [
    "### Построение моделей с гиперпараметрами"
   ]
  },
  {
   "cell_type": "markdown",
   "id": "c4dc3731",
   "metadata": {},
   "source": [
    "#### Ridge"
   ]
  },
  {
   "cell_type": "code",
   "execution_count": 187,
   "id": "b457fe81",
   "metadata": {},
   "outputs": [],
   "source": [
    "ridge_params = {'alpha': [0, 1],\n",
    "               'fit_intercept': [False, True],\n",
    "               'max_iter': [1000, 2000, 3000]}\n",
    "\n",
    "ridge = Ridge()\n",
    "\n",
    "clf = GridSearchCV(ridge, ridge_params, cv=5)"
   ]
  },
  {
   "cell_type": "code",
   "execution_count": 188,
   "id": "d5184990",
   "metadata": {},
   "outputs": [
    {
     "data": {
      "text/plain": [
       "0.7164216771955073"
      ]
     },
     "execution_count": 188,
     "metadata": {},
     "output_type": "execute_result"
    }
   ],
   "source": [
    "best_model = clf.fit(X_train, y_train)\n",
    "\n",
    "y_pred = best_model.predict(X_test)\n",
    "\n",
    "r2_score(y_test, y_pred)"
   ]
  },
  {
   "cell_type": "markdown",
   "id": "b54ca304",
   "metadata": {},
   "source": [
    "Гиперпараметры никак не повлияли на результат предсказания\n",
    "\n",
    "До: 0.7164\n",
    "\n",
    "После: 0.7164"
   ]
  },
  {
   "cell_type": "markdown",
   "id": "fe3ddb80",
   "metadata": {},
   "source": [
    "#### RandomForestRegressor"
   ]
  },
  {
   "cell_type": "code",
   "execution_count": 191,
   "id": "b40ed2d4",
   "metadata": {},
   "outputs": [],
   "source": [
    "forest_params = {'n_estimators': [100, 300],\n",
    "                'criterion': ['squared_error', 'absolute_error'],\n",
    "                'max_depth': [None, 3]}\n",
    "\n",
    "forest = RandomForestRegressor()\n",
    "\n",
    "clf = GridSearchCV(forest, forest_params, cv=5)"
   ]
  },
  {
   "cell_type": "code",
   "execution_count": 192,
   "id": "fd678369",
   "metadata": {},
   "outputs": [],
   "source": [
    "best_model = clf.fit(X_train, y_train)"
   ]
  },
  {
   "cell_type": "code",
   "execution_count": 193,
   "id": "47639b23",
   "metadata": {},
   "outputs": [
    {
     "data": {
      "text/plain": [
       "0.7767987865925903"
      ]
     },
     "execution_count": 193,
     "metadata": {},
     "output_type": "execute_result"
    }
   ],
   "source": [
    "y_pred = best_model.predict(X_test)\n",
    "r2_score(y_test, y_pred)"
   ]
  },
  {
   "cell_type": "markdown",
   "id": "e7765ead",
   "metadata": {},
   "source": [
    "После подбора гиперпараметров, можно заметить, что результат предсказания почти не изменился\n",
    "\n",
    "До: 0.7756\n",
    "\n",
    "После: 0.7767"
   ]
  },
  {
   "cell_type": "code",
   "execution_count": null,
   "id": "ecd640cd",
   "metadata": {},
   "outputs": [],
   "source": []
  }
 ],
 "metadata": {
  "kernelspec": {
   "display_name": "Python 3 (ipykernel)",
   "language": "python",
   "name": "python3"
  },
  "language_info": {
   "codemirror_mode": {
    "name": "ipython",
    "version": 3
   },
   "file_extension": ".py",
   "mimetype": "text/x-python",
   "name": "python",
   "nbconvert_exporter": "python",
   "pygments_lexer": "ipython3",
   "version": "3.9.12"
  }
 },
 "nbformat": 4,
 "nbformat_minor": 5
}
